{
 "cells": [
  {
   "cell_type": "code",
   "execution_count": 1,
   "metadata": {},
   "outputs": [
    {
     "name": "stdout",
     "output_type": "stream",
     "text": [
      "0.625\n"
     ]
    }
   ],
   "source": [
    "#Simple python functions I revisited through my progress in this career track\n",
    "\n",
    "#Print the quotient of 5 and 8\n",
    "print(5 / 8)\n"
   ]
  },
  {
   "cell_type": "code",
   "execution_count": 2,
   "metadata": {},
   "outputs": [
    {
     "name": "stdout",
     "output_type": "stream",
     "text": [
      "17\n"
     ]
    }
   ],
   "source": [
    "# Print the sum of 7 and 10\n",
    "print(7+10)"
   ]
  },
  {
   "cell_type": "code",
   "execution_count": 3,
   "metadata": {},
   "outputs": [
    {
     "name": "stdout",
     "output_type": "stream",
     "text": [
      "10\n",
      "0\n"
     ]
    }
   ],
   "source": [
    "# Addition, subtraction\n",
    "print(5 + 5)\n",
    "print(5 - 5)"
   ]
  },
  {
   "cell_type": "code",
   "execution_count": 4,
   "metadata": {},
   "outputs": [
    {
     "name": "stdout",
     "output_type": "stream",
     "text": [
      "15\n",
      "5.0\n",
      "4\n",
      "16\n"
     ]
    }
   ],
   "source": [
    "# Multiplication, division, modulo, and exponentiation\n",
    "print(3 * 5)\n",
    "print(10 / 2)\n",
    "print(18 % 7)\n",
    "print(4 ** 2)\n"
   ]
  },
  {
   "cell_type": "code",
   "execution_count": 5,
   "metadata": {},
   "outputs": [
    {
     "name": "stdout",
     "output_type": "stream",
     "text": [
      "194.87171000000012\n"
     ]
    }
   ],
   "source": [
    "# How much is $100 worth after 7 years and 10% annual growth rate?\n",
    "print(100*(1.1**7))"
   ]
  },
  {
   "cell_type": "code",
   "execution_count": 6,
   "metadata": {},
   "outputs": [
    {
     "name": "stdout",
     "output_type": "stream",
     "text": [
      "100\n"
     ]
    }
   ],
   "source": [
    "# Create a variable savings\n",
    "savings = 100\n",
    "\n",
    "# Print out savings\n",
    "print(savings)"
   ]
  },
  {
   "cell_type": "code",
   "execution_count": 7,
   "metadata": {},
   "outputs": [
    {
     "name": "stdout",
     "output_type": "stream",
     "text": [
      "194.87171000000012\n"
     ]
    }
   ],
   "source": [
    "# Create a variable growth_multiplier\n",
    "growth_multiplier = 1.1\n",
    "\n",
    "# Calculate result\n",
    "result = savings*growth_multiplier**7\n",
    "\n",
    "# Print out result\n",
    "print(result)"
   ]
  },
  {
   "cell_type": "code",
   "execution_count": 8,
   "metadata": {},
   "outputs": [
    {
     "name": "stdout",
     "output_type": "stream",
     "text": [
      "<class 'float'>\n"
     ]
    }
   ],
   "source": [
    "# Create a variable desc\n",
    "desc = \"compound interest\"\n",
    "\n",
    "# Create a variable profitable\n",
    "profitable = True\n",
    "\n",
    "# Assign product of growth_multiplier and savings to year1\n",
    "\n",
    "year1 = growth_multiplier*savings\n",
    "\n",
    "# Print the type of year1\n",
    "print(type(year1))"
   ]
  },
  {
   "cell_type": "code",
   "execution_count": 9,
   "metadata": {},
   "outputs": [
    {
     "name": "stdout",
     "output_type": "stream",
     "text": [
      "compound interestcompound interest\n"
     ]
    }
   ],
   "source": [
    "# Assign sum of desc and desc to doubledesc\n",
    "doubledesc = desc+desc\n",
    "# Print out doubledesc\n",
    "print(doubledesc)"
   ]
  },
  {
   "cell_type": "code",
   "execution_count": 10,
   "metadata": {},
   "outputs": [
    {
     "name": "stdout",
     "output_type": "stream",
     "text": [
      "I started with $100 and now have $194.87171000000012. Awesome!\n"
     ]
    }
   ],
   "source": [
    "# Definition of savings and result\n",
    "savings = 100\n",
    "result = 100 * 1.10 ** 7\n",
    "\n",
    "# Fix the printout\n",
    "print(\"I started with $\" + str(savings) + \" and now have $\" + str(result) + \". Awesome!\")"
   ]
  },
  {
   "cell_type": "code",
   "execution_count": 11,
   "metadata": {},
   "outputs": [],
   "source": [
    "#Convert from string to float\n",
    "\n",
    "# Definition of pi_string\n",
    "pi_string = \"3.1415926\"\n",
    "\n",
    "# Convert pi_string into float: pi_float\n",
    "pi_float = float(pi_string)"
   ]
  },
  {
   "cell_type": "code",
   "execution_count": 12,
   "metadata": {},
   "outputs": [
    {
     "name": "stdout",
     "output_type": "stream",
     "text": [
      "[11.25, 18.0, 20.0, 10.75, 9.5]\n"
     ]
    }
   ],
   "source": [
    "#Creating and mannipulating lists\n",
    "\n",
    "# area variables (in square meters)\n",
    "hall = 11.25\n",
    "kit = 18.0\n",
    "liv = 20.0\n",
    "bed = 10.75\n",
    "bath = 9.50\n",
    "\n",
    "# Create list areas\n",
    "areas = [hall, kit, liv, bed, bath]\n",
    "\n",
    "# Print areas\n",
    "print(areas)"
   ]
  },
  {
   "cell_type": "code",
   "execution_count": 13,
   "metadata": {},
   "outputs": [
    {
     "name": "stdout",
     "output_type": "stream",
     "text": [
      "['hallway', 11.25, 'kitchen', 18.0, 'living room', 20.0, 'bedroom', 10.75, 'bathroom', 9.5]\n"
     ]
    }
   ],
   "source": [
    "# Adapt list areas\n",
    "areas = [\"hallway\",hall,\"kitchen\", kit, \"living room\", liv,\"bedroom\", bed, \"bathroom\", bath]\n",
    "\n",
    "# Print areas\n",
    "print(areas)"
   ]
  },
  {
   "cell_type": "code",
   "execution_count": 14,
   "metadata": {},
   "outputs": [
    {
     "name": "stdout",
     "output_type": "stream",
     "text": [
      "[['hallway', 11.25], ['kitchen', 18.0], ['living room', 20.0], ['bedroom', 10.75], ['bathroom', 9.5]]\n",
      "<class 'list'>\n"
     ]
    }
   ],
   "source": [
    "# house information as list of lists\n",
    "house = [[\"hallway\", hall],\n",
    "         [\"kitchen\", kit],\n",
    "         [\"living room\", liv],\n",
    "         [\"bedroom\", bed],\n",
    "         [\"bathroom\", bath]]\n",
    "\n",
    "# Print out house\n",
    "print(house)\n",
    "\n",
    "# Print out the type of house\n",
    "print(type(house))"
   ]
  },
  {
   "cell_type": "code",
   "execution_count": 15,
   "metadata": {},
   "outputs": [
    {
     "name": "stdout",
     "output_type": "stream",
     "text": [
      "11.25\n",
      "9.5\n",
      "20.0\n"
     ]
    }
   ],
   "source": [
    "# Create the areas list\n",
    "areas = [\"hallway\", 11.25, \"kitchen\", 18.0, \"living room\", 20.0, \"bedroom\", 10.75, \"bathroom\", 9.50]\n",
    "\n",
    "# Print out second element from areas\n",
    "print(areas[1])\n",
    "\n",
    "# Print out last element from areas\n",
    "print(areas[-1])\n",
    "\n",
    "# Print out the area of the living room\n",
    "print(areas[5])"
   ]
  },
  {
   "cell_type": "code",
   "execution_count": 16,
   "metadata": {},
   "outputs": [
    {
     "name": "stdout",
     "output_type": "stream",
     "text": [
      "28.75\n"
     ]
    }
   ],
   "source": [
    "# Sum of kitchen and bedroom area: eat_sleep_area\n",
    "\n",
    "eat_sleep_area= areas[3]+ areas[-3]\n",
    "# Print the variable eat_sleep_area\n",
    "print(eat_sleep_area)"
   ]
  },
  {
   "cell_type": "code",
   "execution_count": 17,
   "metadata": {},
   "outputs": [
    {
     "name": "stdout",
     "output_type": "stream",
     "text": [
      "['hallway', 11.25, 'kitchen', 18.0, 'living room', 20.0]\n",
      "['bedroom', 10.75, 'bathroom', 9.5]\n"
     ]
    }
   ],
   "source": [
    "# Use slicing to create downstairs\n",
    "downstairs = areas[:6]\n",
    "\n",
    "# Use slicing to create upstairs\n",
    "upstairs = areas[6:]\n",
    "\n",
    "# Print out downstairs and upstairs\n",
    "print(downstairs)\n",
    "print(upstairs)"
   ]
  },
  {
   "cell_type": "code",
   "execution_count": 18,
   "metadata": {},
   "outputs": [],
   "source": [
    "# Correct the bathroom area\n",
    "areas[-1]=10.50\n",
    "\n",
    "# Change \"living room\" to \"chill zone\"\n",
    "areas[4]=\"chill zone\""
   ]
  },
  {
   "cell_type": "code",
   "execution_count": 19,
   "metadata": {},
   "outputs": [],
   "source": [
    "# Add poolhouse data to areas, new list is areas_1\n",
    "\n",
    "areas_1 = areas + [\"poolhouse\", 24.5]\n",
    "# Add garage data to areas_1, new list is areas_2\n",
    "areas_2 = areas_1+[\"garage\", 15.45]"
   ]
  },
  {
   "cell_type": "code",
   "execution_count": 20,
   "metadata": {},
   "outputs": [
    {
     "name": "stdout",
     "output_type": "stream",
     "text": [
      "[11.25, 18.0, 20.0, 10.75, 9.5]\n"
     ]
    }
   ],
   "source": [
    "# Create list areas\n",
    "areas = [11.25, 18.0, 20.0, 10.75, 9.50]\n",
    "\n",
    "# Create areas_copy\n",
    "areas_copy = list(areas)\n",
    "\n",
    "# Change areas_copy\n",
    "areas_copy[0] = 5.0\n",
    "\n",
    "# Print areas\n",
    "print(areas)"
   ]
  },
  {
   "cell_type": "code",
   "execution_count": 21,
   "metadata": {},
   "outputs": [
    {
     "name": "stdout",
     "output_type": "stream",
     "text": [
      "<class 'list'>\n",
      "4\n"
     ]
    }
   ],
   "source": [
    "# Create variables var1 and var2\n",
    "var1 = [1, 2, 3, 4]\n",
    "var2 = True\n",
    "\n",
    "# Print out type of var1\n",
    "print(type(var1))\n",
    "\n",
    "# Print out length of var1\n",
    "print(len(var1))\n",
    "\n",
    "# Convert var2 to an integer: out2\n",
    "out2 = int(var2)"
   ]
  },
  {
   "cell_type": "code",
   "execution_count": 22,
   "metadata": {},
   "outputs": [
    {
     "name": "stdout",
     "output_type": "stream",
     "text": [
      "[20.0, 18.0, 11.25, 10.75, 9.5]\n"
     ]
    }
   ],
   "source": [
    "# Create lists first and second\n",
    "first = [11.25, 18.0, 20.0]\n",
    "second = [10.75, 9.50]\n",
    "\n",
    "# Paste together first and second: full\n",
    "full = first+second\n",
    "\n",
    "# Sort full in descending order: full_sorted\n",
    "\n",
    "full_sorted =sorted(full, reverse=True)\n",
    "# Print out full_sorted\n",
    "print(full_sorted)"
   ]
  },
  {
   "cell_type": "code",
   "execution_count": 23,
   "metadata": {},
   "outputs": [
    {
     "name": "stdout",
     "output_type": "stream",
     "text": [
      "poolhouse\n",
      "POOLHOUSE\n",
      "3\n"
     ]
    }
   ],
   "source": [
    "# string to experiment with: place\n",
    "place = \"poolhouse\"\n",
    "\n",
    "# Use upper() on place: place_up\n",
    "\n",
    "place_up= place.upper()\n",
    "# Print out place and place_up\n",
    "print(place)\n",
    "print(place_up)\n",
    "\n",
    "# Print out the number of o's in place\n",
    "print(place.count('o'))"
   ]
  },
  {
   "cell_type": "code",
   "execution_count": 24,
   "metadata": {},
   "outputs": [
    {
     "name": "stdout",
     "output_type": "stream",
     "text": [
      "2\n",
      "1\n"
     ]
    }
   ],
   "source": [
    " #Create list areas\n",
    "areas = [11.25, 18.0, 20.0, 10.75, 9.50]\n",
    "\n",
    "# Print out the index of the element 20.0\n",
    "print(areas.index(20.0))\n",
    "\n",
    "# Print out how often 9.50 appears in areas\n",
    "\n",
    "print(areas.count(9.50))"
   ]
  },
  {
   "cell_type": "code",
   "execution_count": 25,
   "metadata": {},
   "outputs": [
    {
     "name": "stdout",
     "output_type": "stream",
     "text": [
      "[11.25, 18.0, 20.0, 10.75, 9.5, 24.5, 15.45]\n",
      "[15.45, 24.5, 9.5, 10.75, 20.0, 18.0, 11.25]\n"
     ]
    }
   ],
   "source": [
    "# Use append twice to add poolhouse and garage size\n",
    "areas.append(24.5)\n",
    "areas.append(15.45)\n",
    "\n",
    "\n",
    "# Print out areas\n",
    "print(areas)\n",
    "\n",
    "# Reverse the orders of the elements in areas\n",
    "areas.reverse()\n",
    "print(areas)\n",
    "\n",
    "# Print out areas"
   ]
  },
  {
   "cell_type": "code",
   "execution_count": 26,
   "metadata": {},
   "outputs": [
    {
     "name": "stdout",
     "output_type": "stream",
     "text": [
      "Circumference: 2.701769682087222\n",
      "Area: 0.5808804816487527\n"
     ]
    }
   ],
   "source": [
    "# Definition of radius\n",
    "r = 0.43\n",
    "\n",
    "# Import the math package\n",
    "import math as mt\n",
    "\n",
    "# Calculate C\n",
    "C = 2*mt.pi*r\n",
    "\n",
    "# Calculate A\n",
    "A = mt.pi*r**2\n",
    "\n",
    "# Build printout\n",
    "print(\"Circumference: \" + str(C))\n",
    "print(\"Area: \" + str(A))"
   ]
  },
  {
   "cell_type": "code",
   "execution_count": 27,
   "metadata": {},
   "outputs": [
    {
     "name": "stdout",
     "output_type": "stream",
     "text": [
      "40317.10572106901\n"
     ]
    }
   ],
   "source": [
    "# Definition of radius\n",
    "r = 192500\n",
    "\n",
    "# Import radians function of math package\n",
    "from math import radians\n",
    "\n",
    "# Travel distance of Moon over 12 degrees. Store in dist.\n",
    "dist = r * radians(12)\n",
    "\n",
    "# Print out dist\n",
    "print(dist)"
   ]
  },
  {
   "cell_type": "code",
   "execution_count": 28,
   "metadata": {},
   "outputs": [
    {
     "name": "stdout",
     "output_type": "stream",
     "text": [
      "<class 'numpy.ndarray'>\n"
     ]
    }
   ],
   "source": [
    "# Create list baseball\n",
    "baseball = [180, 215, 210, 210, 188, 176, 209, 200]\n",
    "\n",
    "# Import the numpy package as np\n",
    "\n",
    "import numpy as np\n",
    "# Create a numpy array from baseball: np_baseball\n",
    "np_baseball = np.array(baseball)\n",
    "\n",
    "# Print out type of np_baseball\n",
    "print(type(np_baseball))"
   ]
  },
  {
   "cell_type": "code",
   "execution_count": 39,
   "metadata": {},
   "outputs": [
    {
     "name": "stdout",
     "output_type": "stream",
     "text": [
      "[74, 74, 72, 72, 73, 69, 69, 71, 76, 71, 73, 73, 74, 74, 69, 70, 72, 73, 75, 78, 79, 76, 74, 76, 72, 71, 75, 77, 74, 73, 74, 78, 73, 75, 73, 75, 75, 74, 69, 71, 74, 73, 73, 76, 74, 74, 70, 72, 77, 74, 70, 76, 75, 73, 75, 76, 76, 78, 74, 74, 76, 77, 81, 78, 75, 77, 75, 76, 74, 72, 72, 75, 73, 73, 73, 70, 70, 70, 76, 68, 71, 72, 75, 75, 75, 75, 68, 74, 78, 71, 73, 76, 74, 74, 79, 75, 73, 76, 74, 74, 73, 72, 74, 73, 74, 72, 73, 69, 72, 73, 75, 75, 73, 72, 72, 76, 74, 72, 76, 77, 74, 77, 75, 76, 80, 74, 74, 75, 78, 73, 73, 74, 75, 76, 71, 73, 74, 76, 76, 74, 73, 74, 70, 72, 73, 73, 73, 73, 71, 74, 74, 72, 74, 71, 74, 75, 73, 75, 75, 79, 73, 75, 76, 74, 76, 78, 74, 76, 72, 74, 76, 74, 75, 78, 75, 72, 74, 72, 74, 70, 71, 70, 75, 71, 71, 73, 72, 71, 73, 72, 75, 70, 74, 74, 75, 73, 77, 73, 76, 75, 74, 76, 75, 73, 71, 76, 75, 72, 71, 77, 73, 74, 71, 72, 74, 75, 73, 72, 75, 75, 74, 72, 74, 71, 70, 75, 74, 77, 77, 75, 75, 78, 75, 76, 73, 75, 75, 79, 77, 76, 71, 75, 74, 69, 71, 76, 72, 72, 70, 72, 73, 71, 72, 71, 73, 72, 73, 74, 74, 72, 73, 75, 74, 74, 77, 75, 73, 72, 71, 74, 77, 75, 75, 75, 78, 78, 74, 76, 78, 76, 70, 72, 80, 74, 74, 71, 70, 72, 71, 74, 71, 72, 71, 74, 69, 76, 75, 75, 76, 73, 76, 73, 77, 73, 72, 72, 77, 77, 71, 74, 74, 73, 78, 75, 73, 70, 74, 72, 73, 73, 75, 75, 74, 76, 73, 74, 75, 73, 75, 72, 73, 73, 72, 74, 78, 76, 73, 74, 75, 70, 75, 71, 72, 78, 75, 73, 73, 71, 75, 77, 72, 69, 73, 74, 72, 70, 75, 70, 72, 72, 74, 73, 74, 75, 76, 75, 80, 72, 75, 73, 74, 74, 73, 75, 75, 71, 73, 75, 74, 74, 72, 74, 74, 74, 73, 76, 75, 72, 73, 73, 73, 72, 72, 72, 72, 71, 75, 77, 75, 74, 73, 75, 79, 74, 76, 73, 74, 74, 72, 74, 74, 75, 78, 74, 74, 74, 77, 70, 73, 74, 73, 71, 75, 71, 72, 77, 74, 70, 77, 73, 77, 74, 72, 76, 71, 76, 78, 75, 73, 78, 74, 79, 75, 76, 72, 75, 75, 70, 72, 70, 74, 71, 76, 73, 76, 71, 69, 72, 72, 69, 73, 69, 73, 74, 74, 72, 71, 74, 73, 72, 72, 76, 76, 76, 74, 76, 75, 71, 72, 71, 73, 75, 76, 75, 71, 75, 74, 72, 73, 73, 73, 73, 76, 72, 76, 73, 73, 73, 75, 75, 77, 73, 72, 75, 70, 74, 72, 80, 71, 71, 74, 74, 73, 75, 76, 73, 77, 72, 73, 77, 76, 71, 75, 73, 74, 77, 71, 72, 73, 69, 73, 70, 74, 76, 73, 73, 75, 73, 79, 74, 73, 74, 77, 75, 74, 73, 77, 73, 77, 74, 74, 73, 77, 74, 77, 75, 77, 75, 71, 74, 70, 79, 72, 72, 70, 74, 74, 72, 73, 72, 74, 74, 76, 82, 74, 74, 70, 73, 73, 74, 77, 72, 76, 73, 73, 72, 74, 74, 71, 72, 75, 74, 74, 77, 70, 71, 73, 76, 71, 75, 74, 72, 76, 79, 76, 73, 76, 78, 75, 76, 72, 72, 73, 73, 75, 71, 76, 70, 75, 74, 75, 73, 71, 71, 72, 73, 73, 72, 69, 73, 78, 71, 73, 75, 76, 70, 74, 77, 75, 79, 72, 72, 77, 73, 75, 75, 75, 73, 73, 76, 77, 75, 70, 71, 71, 75, 74, 69, 70, 75, 72, 75, 73, 72, 72, 72, 76, 75, 74, 75, 69, 73, 72, 72, 75, 77, 76, 80, 77, 76, 79, 71, 75, 73, 76, 77, 73, 76, 70, 75, 73, 75, 70, 69, 71, 72, 72, 73, 70, 70, 73, 76, 75, 72, 73, 79, 71, 72, 74, 74, 74, 72, 76, 76, 72, 72, 71, 72, 72, 70, 77, 74, 72, 76, 71, 76, 71, 73, 70, 73, 73, 72, 71, 71, 71, 72, 72, 74, 74, 74, 71, 72, 75, 72, 71, 72, 72, 72, 72, 74, 74, 77, 75, 73, 75, 73, 76, 72, 77, 75, 72, 71, 71, 75, 72, 73, 73, 71, 70, 75, 71, 76, 73, 68, 71, 72, 74, 77, 72, 76, 78, 81, 72, 73, 76, 72, 72, 74, 76, 73, 76, 75, 70, 71, 74, 72, 73, 76, 76, 73, 71, 68, 71, 71, 74, 77, 69, 72, 76, 73, 75, 76, 75, 76, 72, 74, 76, 74, 72, 75, 78, 77, 70, 72, 79, 74, 71, 68, 77, 75, 71, 72, 70, 72, 72, 73, 72, 74, 72, 72, 75, 72, 73, 74, 72, 78, 75, 72, 74, 75, 75, 76, 74, 74, 73, 74, 71, 74, 75, 76, 74, 76, 76, 73, 75, 75, 74, 68, 72, 75, 71, 70, 72, 73, 72, 75, 74, 70, 73, 76, 71, 82, 72, 73, 74, 71, 75, 77, 72, 74, 72, 73, 78, 77, 73, 73, 73, 73, 73, 76, 75, 70, 73, 72, 73, 75, 74, 73, 73, 76, 73, 75, 70, 77, 72, 77, 74, 75, 75, 75, 75, 72, 74, 71, 76, 71, 75, 76, 83, 75, 74, 76, 72, 72, 75, 75, 72, 77, 73, 72, 70, 74, 72, 74, 72, 71, 70, 71, 76, 74, 76, 74, 74, 74, 75, 75, 71, 71, 74, 77, 71, 74, 75, 77, 76, 74, 76, 72, 71, 72, 75, 73, 68, 72, 69, 73, 73, 75, 70, 70, 74, 75, 74, 74, 73, 74, 75, 77, 73, 74, 76, 74, 75, 73, 76, 78, 75, 73, 77, 74, 72, 74, 72, 71, 73, 75, 73, 67, 67, 76, 74, 73, 70, 75, 70, 72, 77, 79, 78, 74, 75, 75, 78, 76, 75, 69, 75, 72, 75, 73, 74, 75, 75, 73]\n"
     ]
    }
   ],
   "source": [
    "# height is available as a regular list\n",
    "\n",
    "# Import pandas\n",
    "import pandas as pd\n",
    "\n",
    "#Read csv file containing information on baseball players\n",
    "df_heights = pd.read_csv('Heights Baseball.csv')\n",
    "df_heights.head()\n",
    "\n",
    "#Retreive only the heights of the baseball players as a list\n",
    "height_in = df_heights['Height(inches)'].tolist()\n",
    "print(height_in)\n"
   ]
  },
  {
   "cell_type": "code",
   "execution_count": 38,
   "metadata": {},
   "outputs": [
    {
     "name": "stdout",
     "output_type": "stream",
     "text": [
      "[74 74 72 ... 75 75 73]\n",
      "[1.8796 1.8796 1.8288 ... 1.905  1.905  1.8542]\n"
     ]
    }
   ],
   "source": [
    "# Create a numpy array from height_in: np_height_in\n",
    "np_height_in = np.array(height_in)\n",
    "\n",
    "# Print out np_height_in\n",
    "\n",
    "print(np_height_in)\n",
    "# Convert np_height_in to m: np_height_m\n",
    "\n",
    "np_height_m = np_height_in * 0.0254\n",
    "\n",
    "# Print np_height_m\n",
    "print(np_height_m)"
   ]
  },
  {
   "cell_type": "code",
   "execution_count": 41,
   "metadata": {},
   "outputs": [
    {
     "name": "stdout",
     "output_type": "stream",
     "text": [
      "[23.11037639 27.60406069 28.48080465 ... 25.62295933 23.74810865\n",
      " 25.72686361]\n"
     ]
    }
   ],
   "source": [
    "#Retreive only the weights of the baseball players as a list\n",
    "weight_lb = df_heights['Weight(pounds)'].tolist()\n",
    "\n",
    "# Create array from weight_lb with metric units: np_weight_kg\n",
    "np_weight_kg  = np.array(weight_lb)* 0.453592\n",
    "\n",
    "# Calculate the BMI: bmi\n",
    "bmi = np_weight_kg / np_height_m **2\n",
    "\n",
    "# Print out bmi\n",
    "print(bmi)"
   ]
  },
  {
   "cell_type": "code",
   "execution_count": 42,
   "metadata": {},
   "outputs": [
    {
     "name": "stdout",
     "output_type": "stream",
     "text": [
      "[False False False ... False False False]\n",
      "[20.54255679 20.54255679 20.69282047 20.69282047 20.34343189 20.34343189\n",
      " 20.69282047 20.15883472 19.4984471  20.69282047 20.9205219 ]\n"
     ]
    },
    {
     "name": "stderr",
     "output_type": "stream",
     "text": [
      "C:\\Users\\Jose\\Anaconda3\\lib\\site-packages\\ipykernel_launcher.py:2: RuntimeWarning: invalid value encountered in less\n",
      "  \n"
     ]
    }
   ],
   "source": [
    "# Create the light array\n",
    "light = bmi<21\n",
    "\n",
    "# Print out light\n",
    "print(light)\n",
    "\n",
    "\n",
    "# Print out BMIs of all baseball players whose BMI is below 21\n",
    "print(bmi[light])"
   ]
  },
  {
   "cell_type": "code",
   "execution_count": 45,
   "metadata": {},
   "outputs": [
    {
     "name": "stdout",
     "output_type": "stream",
     "text": [
      "195.0\n",
      "[73 72 74 73 74 72 73 69 72 73 75]\n"
     ]
    }
   ],
   "source": [
    "# Print out the weight at index 50\n",
    "np_weight_lb = np.array(weight_lb)\n",
    "print(np_weight_lb[50])\n",
    "\n",
    "# Print out sub-array of np_height_in: index 100 up to and including index 110\n",
    "print(np_height_in[100:111])"
   ]
  },
  {
   "cell_type": "code",
   "execution_count": 46,
   "metadata": {},
   "outputs": [
    {
     "name": "stdout",
     "output_type": "stream",
     "text": [
      "<class 'numpy.ndarray'>\n",
      "(4, 2)\n"
     ]
    }
   ],
   "source": [
    "# Create baseball, a list of lists\n",
    "baseball = [[180, 78.4],\n",
    "            [215, 102.7],\n",
    "            [210, 98.5],\n",
    "            [188, 75.2]]\n",
    "\n",
    "\n",
    "# Create a 2D numpy array from baseball: np_baseball\n",
    "np_baseball = np.array(baseball)\n",
    "\n",
    "# Print out the type of np_baseball\n",
    "print(type(np_baseball))\n",
    "\n",
    "# Print out the shape of np_baseball\n",
    "print(np_baseball.shape)"
   ]
  },
  {
   "cell_type": "code",
   "execution_count": 55,
   "metadata": {},
   "outputs": [
    {
     "name": "stdout",
     "output_type": "stream",
     "text": [
      "[[74, 180.0], [74, 215.0], [72, 210.0], [72, 210.0], [73, 188.0], [69, 176.0], [69, 209.0], [71, 200.0], [76, 231.0], [71, 180.0], [73, 188.0], [73, 180.0], [74, 185.0], [74, 160.0], [69, 180.0], [70, 185.0], [72, 197.0], [73, 189.0], [75, 185.0], [78, 219.0], [79, 230.0], [76, 205.0], [74, 230.0], [76, 195.0], [72, 180.0], [71, 192.0], [75, 225.0], [77, 203.0], [74, 195.0], [73, 182.0], [74, 188.0], [78, 200.0], [73, 180.0], [75, 200.0], [73, 200.0], [75, 245.0], [75, 240.0], [74, 215.0], [69, 185.0], [71, 175.0], [74, 199.0], [73, 200.0], [73, 215.0], [76, 200.0], [74, 205.0], [74, 206.0], [70, 186.0], [72, 188.0], [77, 220.0], [74, 210.0], [70, 195.0], [76, 244.0], [75, 195.0], [73, 200.0], [75, 200.0], [76, 212.0], [76, 224.0], [78, 210.0], [74, 205.0], [74, 220.0], [76, 195.0], [77, 200.0], [81, 260.0], [78, 228.0], [75, 270.0], [77, 200.0], [75, 210.0], [76, 190.0], [74, 220.0], [72, 180.0], [72, 205.0], [75, 210.0], [73, 220.0], [73, 211.0], [73, 200.0], [70, 180.0], [70, 190.0], [70, 170.0], [76, 230.0], [68, 155.0], [71, 185.0], [72, 185.0], [75, 200.0], [75, 225.0], [75, 225.0], [75, 220.0], [68, 160.0], [74, 205.0], [78, 235.0], [71, 250.0], [73, 210.0], [76, 190.0], [74, 160.0], [74, 200.0], [79, 205.0], [75, 222.0], [73, 195.0], [76, 205.0], [74, 220.0], [74, 220.0], [73, 170.0], [72, 185.0], [74, 195.0], [73, 220.0], [74, 230.0], [72, 180.0], [73, 220.0], [69, 180.0], [72, 180.0], [73, 170.0], [75, 210.0], [75, 215.0], [73, 200.0], [72, 213.0], [72, 180.0], [76, 192.0], [74, 235.0], [72, 185.0], [76, 230.0], [77, 235.0], [74, 210.0], [77, 222.0], [75, 210.0], [76, 230.0], [80, 220.0], [74, 180.0], [74, 190.0], [75, 200.0], [78, 210.0], [73, 194.0], [73, 180.0], [74, 190.0], [75, 240.0], [76, 200.0], [71, 198.0], [73, 200.0], [74, 195.0], [76, 210.0], [76, 220.0], [74, 190.0], [73, 210.0], [74, 225.0], [70, 180.0], [72, 185.0], [73, 170.0], [73, 185.0], [73, 185.0], [73, 180.0], [71, 178.0], [74, 175.0], [74, 200.0], [72, 204.0], [74, 211.0], [71, 190.0], [74, 210.0], [75, 240.0], [73, 190.0], [75, 190.0], [75, 185.0], [79, 290.0], [73, 175.0], [75, 185.0], [76, 200.0], [74, 220.0], [76, 170.0], [78, 220.0], [74, 190.0], [76, 220.0], [72, 205.0], [74, 200.0], [76, 250.0], [74, 225.0], [75, 215.0], [78, 210.0], [75, 215.0], [72, 195.0], [74, 200.0], [72, 194.0], [74, 220.0], [70, 180.0], [71, 180.0], [70, 170.0], [75, 195.0], [71, 180.0], [71, 170.0], [73, 206.0], [72, 205.0], [71, 200.0], [73, 225.0], [72, 201.0], [75, 225.0], [70, 226.0], [74, 233.0], [74, 180.0], [75, 225.0], [73, 180.0], [77, 220.0], [73, 180.0], [76, 237.0], [75, 215.0], [74, 190.0], [76, 235.0], [75, 190.0], [73, 180.0], [71, 165.0], [76, 195.0], [75, 200.0], [72, 190.0], [71, 190.0], [77, 185.0], [73, 185.0], [74, 205.0], [71, 190.0], [72, 205.0], [74, 206.0], [75, 220.0], [73, 208.0], [72, 170.0], [75, 195.0], [75, 210.0], [74, 190.0], [72, 211.0], [74, 230.0], [71, 170.0], [70, 185.0], [75, 230.0], [74, 185.0], [77, 241.0], [77, 225.0], [75, 210.0], [75, 175.0], [78, 230.0], [75, 200.0], [76, 215.0], [73, 198.0], [75, 226.0], [75, 278.0], [79, 215.0], [77, 230.0], [76, 240.0], [71, 184.0], [75, 219.0], [74, 170.0], [69, 218.0], [71, 190.0], [76, 225.0], [72, 220.0], [72, 176.0], [70, 190.0], [72, 197.0], [73, 204.0], [71, 167.0], [72, 180.0], [71, 195.0], [73, 220.0], [72, 215.0], [73, 185.0], [74, 190.0], [74, 205.0], [72, 205.0], [73, 200.0], [75, 200.0], [74, 210.0], [74, 215.0], [77, 200.0], [75, 205.0], [73, 211.0], [72, 190.0], [71, 208.0], [74, 200.0], [77, 210.0], [75, 232.0], [75, 230.0], [75, 210.0], [78, 220.0], [78, 210.0], [74, 202.0], [76, 212.0], [78, 225.0], [76, 170.0], [70, 190.0], [72, 200.0], [80, 237.0], [74, 220.0], [74, 170.0], [71, 193.0], [70, 190.0], [72, 150.0], [71, 220.0], [74, 200.0], [71, 190.0], [72, 185.0], [71, 185.0], [74, 200.0], [69, 172.0], [76, 220.0], [75, 225.0], [75, 190.0], [76, 195.0], [73, 219.0], [76, 190.0], [73, 197.0], [77, 200.0], [73, 195.0], [72, 210.0], [72, 177.0], [77, 220.0], [77, 235.0], [71, 180.0], [74, 195.0], [74, 195.0], [73, 190.0], [78, 230.0], [75, 190.0], [73, 200.0], [70, 190.0], [74, 190.0], [72, 200.0], [73, 200.0], [73, 184.0], [75, 200.0], [75, 180.0], [74, 219.0], [76, 187.0], [73, 200.0], [74, 220.0], [75, 205.0], [73, 205.0], [75, 190.0], [72, 170.0], [73, 160.0], [73, 215.0], [72, 175.0], [74, 205.0], [78, 200.0], [76, 214.0], [73, 200.0], [74, 190.0], [75, 180.0], [70, 205.0], [75, 220.0], [71, 190.0], [72, 215.0], [78, 235.0], [75, 191.0], [73, 200.0], [73, 181.0], [71, 200.0], [75, 210.0], [77, 240.0], [72, 185.0], [69, 165.0], [73, 190.0], [74, 185.0], [72, 175.0], [70, 155.0], [75, 210.0], [70, 170.0], [72, 175.0], [72, 220.0], [74, 210.0], [73, 205.0], [74, 200.0], [75, 225.0], [76, 205.0], [75, 195.0], [80, 240.0], [72, 150.0], [75, 200.0], [73, 215.0], [74, 202.0], [74, 200.0], [73, 190.0], [75, 205.0], [75, 190.0], [71, 160.0], [73, 215.0], [75, 185.0], [74, 200.0], [74, 190.0], [72, 210.0], [74, 185.0], [74, 220.0], [74, 190.0], [73, 202.0], [76, 205.0], [75, 220.0], [72, 175.0], [73, 160.0], [73, 190.0], [73, 200.0], [72, 229.0], [72, 206.0], [72, 220.0], [72, 180.0], [71, 195.0], [75, 175.0], [77, 250.0], [75, 188.0], [74, 230.0], [73, 190.0], [75, 200.0], [79, 190.0], [74, 219.0], [76, 235.0], [73, 180.0], [74, 180.0], [74, 180.0], [72, 200.0], [74, 234.0], [74, 185.0], [75, 220.0], [78, 223.0], [74, 200.0], [74, 210.0], [74, 200.0], [77, 210.0], [70, 190.0], [73, 177.0], [74, 227.0], [73, 180.0], [71, 195.0], [75, 199.0], [71, 175.0], [72, 185.0], [77, 240.0], [74, 210.0], [70, 180.0], [77, 194.0], [73, 225.0], [77, 275.0], [74, 195.0], [72, 180.0], [76, 205.0], [71, 193.0], [76, 230.0], [78, 230.0], [75, 220.0], [73, 200.0], [78, 249.0], [74, 190.0], [79, 208.0], [75, 245.0], [76, 250.0], [72, 160.0], [75, 192.0], [75, 220.0], [70, 170.0], [72, 197.0], [70, 155.0], [74, 190.0], [71, 200.0], [76, 220.0], [73, 210.0], [76, 228.0], [71, 190.0], [69, 160.0], [72, 184.0], [72, 180.0], [69, 180.0], [73, 200.0], [69, 176.0], [73, 160.0], [74, 222.0], [74, 211.0], [72, 195.0], [71, 200.0], [74, 210.0], [73, 225.0], [72, 175.0], [72, 206.0], [76, 240.0], [76, 185.0], [76, 260.0], [74, 185.0], [76, 221.0], [75, 205.0], [71, 200.0], [72, 170.0], [71, 201.0], [73, 205.0], [75, 185.0], [76, 205.0], [75, 245.0], [71, 220.0], [75, 210.0], [74, 220.0], [72, 185.0], [73, 175.0], [73, 170.0], [73, 180.0], [73, 200.0], [76, 210.0], [72, 175.0], [76, 220.0], [73, 206.0], [73, 180.0], [73, 210.0], [75, 195.0], [75, 200.0], [77, 200.0], [73, 164.0], [72, 180.0], [75, 220.0], [70, 195.0], [74, 205.0], [72, 170.0], [80, 240.0], [71, 210.0], [71, 195.0], [74, 200.0], [74, 205.0], [73, 192.0], [75, 190.0], [76, 170.0], [73, 240.0], [77, 200.0], [72, 205.0], [73, 175.0], [77, 250.0], [76, 220.0], [71, 224.0], [75, 210.0], [73, 195.0], [74, 180.0], [77, 245.0], [71, 175.0], [72, 180.0], [73, 215.0], [69, 175.0], [73, 180.0], [70, 195.0], [74, 230.0], [76, 230.0], [73, 205.0], [73, 215.0], [75, 195.0], [73, 180.0], [79, 205.0], [74, 180.0], [73, 190.0], [74, 180.0], [77, 190.0], [75, 190.0], [74, 220.0], [73, 210.0], [77, 255.0], [73, 190.0], [77, 230.0], [74, 200.0], [74, 205.0], [73, 210.0], [77, 225.0], [74, 215.0], [77, 220.0], [75, 205.0], [77, 200.0], [75, 220.0], [71, 197.0], [74, 225.0], [70, 187.0], [79, 245.0], [72, 185.0], [72, 185.0], [70, 175.0], [74, 200.0], [74, 180.0], [72, 188.0], [73, 225.0], [72, 200.0], [74, 210.0], [74, 245.0], [76, 213.0], [82, 231.0], [74, 165.0], [74, 228.0], [70, 210.0], [73, 250.0], [73, 191.0], [74, 190.0], [77, 200.0], [72, 215.0], [76, 254.0], [73, 232.0], [73, 180.0], [72, 215.0], [74, 220.0], [74, 180.0], [71, 200.0], [72, 170.0], [75, 195.0], [74, 210.0], [74, 200.0], [77, 220.0], [70, 165.0], [71, 180.0], [73, 200.0], [76, 200.0], [71, 170.0], [75, 224.0], [74, 220.0], [72, 180.0], [76, 198.0], [79, 240.0], [76, 239.0], [73, 185.0], [76, 210.0], [78, 220.0], [75, 200.0], [76, 195.0], [72, 220.0], [72, 230.0], [73, 170.0], [73, 220.0], [75, 230.0], [71, 165.0], [76, 205.0], [70, 192.0], [75, 210.0], [74, 205.0], [75, 200.0], [73, 210.0], [71, 185.0], [71, 195.0], [72, 202.0], [73, 205.0], [73, 195.0], [72, 180.0], [69, 200.0], [73, 185.0], [78, 240.0], [71, 185.0], [73, 220.0], [75, 205.0], [76, 205.0], [70, 180.0], [74, 201.0], [77, 190.0], [75, 208.0], [79, 240.0], [72, nan], [72, 180.0], [77, 230.0], [73, 195.0], [75, 215.0], [75, 190.0], [75, 195.0], [73, 215.0], [73, 215.0], [76, 220.0], [77, 220.0], [75, 230.0], [70, 195.0], [71, 190.0], [71, 195.0], [75, 209.0], [74, 204.0], [69, 170.0], [70, 185.0], [75, 205.0], [72, 175.0], [75, 210.0], [73, 190.0], [72, 180.0], [72, 180.0], [72, 160.0], [76, 235.0], [75, 200.0], [74, 210.0], [75, 224.0], [69, 180.0], [73, 190.0], [72, 197.0], [72, 203.0], [75, 205.0], [77, 170.0], [76, 200.0], [80, 250.0], [77, 200.0], [76, 220.0], [79, 200.0], [71, 190.0], [75, 170.0], [73, 190.0], [76, 220.0], [77, 215.0], [73, 206.0], [76, 215.0], [70, 185.0], [75, 235.0], [73, 188.0], [75, 230.0], [70, 195.0], [69, 168.0], [71, 190.0], [72, 160.0], [72, 200.0], [73, 200.0], [70, 189.0], [70, 180.0], [73, 190.0], [76, 200.0], [75, 220.0], [72, 187.0], [73, 240.0], [79, 190.0], [71, 180.0], [72, 185.0], [74, 210.0], [74, 220.0], [74, 219.0], [72, 190.0], [76, 193.0], [76, 175.0], [72, 180.0], [72, 215.0], [71, 210.0], [72, 200.0], [72, 190.0], [70, 185.0], [77, 220.0], [74, 170.0], [72, 195.0], [76, 205.0], [71, 195.0], [76, 210.0], [71, 190.0], [73, 190.0], [70, 180.0], [73, 220.0], [73, 190.0], [72, 186.0], [71, 185.0], [71, 190.0], [71, 180.0], [72, 190.0], [72, 170.0], [74, 210.0], [74, 240.0], [74, 220.0], [71, 180.0], [72, 210.0], [75, 210.0], [72, 195.0], [71, 160.0], [72, 180.0], [72, 205.0], [72, 200.0], [72, 185.0], [74, 245.0], [74, 190.0], [77, 210.0], [75, 200.0], [73, 200.0], [75, 222.0], [73, 215.0], [76, 240.0], [72, 170.0], [77, 220.0], [75, 156.0], [72, 190.0], [71, 202.0], [71, 221.0], [75, 200.0], [72, 190.0], [73, 210.0], [73, 190.0], [71, 200.0], [70, 165.0], [75, 190.0], [71, 185.0], [76, 230.0], [73, 208.0], [68, 209.0], [71, 175.0], [72, 180.0], [74, 200.0], [77, 205.0], [72, 200.0], [76, 250.0], [78, 210.0], [81, 230.0], [72, 244.0], [73, 202.0], [76, 240.0], [72, 200.0], [72, 215.0], [74, 177.0], [76, 210.0], [73, 170.0], [76, 215.0], [75, 217.0], [70, 198.0], [71, 200.0], [74, 220.0], [72, 170.0], [73, 200.0], [76, 230.0], [76, 231.0], [73, 183.0], [71, 192.0], [68, 167.0], [71, 190.0], [71, 180.0], [74, 180.0], [77, 215.0], [69, 160.0], [72, 205.0], [76, 223.0], [73, 205.0], [75, 175.0], [76, 170.0], [75, 190.0], [76, 240.0], [72, 175.0], [74, 230.0], [76, 223.0], [74, 196.0], [72, 167.0], [75, 195.0], [78, 190.0], [77, 250.0], [70, 190.0], [72, 190.0], [79, 190.0], [74, 170.0], [71, 160.0], [68, 150.0], [77, 225.0], [75, 220.0], [71, 209.0], [72, 210.0], [70, 176.0], [72, 260.0], [72, 195.0], [73, 190.0], [72, 184.0], [74, 180.0], [72, 195.0], [72, 195.0], [75, 219.0], [72, 225.0], [73, 212.0], [74, 202.0], [72, 185.0], [78, 200.0], [75, 209.0], [72, 200.0], [74, 195.0], [75, 228.0], [75, 210.0], [76, 190.0], [74, 212.0], [74, 190.0], [73, 218.0], [74, 220.0], [71, 190.0], [74, 235.0], [75, 210.0], [76, 200.0], [74, 188.0], [76, 210.0], [76, 235.0], [73, 188.0], [75, 215.0], [75, 216.0], [74, 220.0], [68, 180.0], [72, 185.0], [75, 200.0], [71, 210.0], [70, 220.0], [72, 185.0], [73, 231.0], [72, 210.0], [75, 195.0], [74, 200.0], [70, 205.0], [73, 200.0], [76, 200.0], [71, 190.0], [82, 250.0], [72, 185.0], [73, 180.0], [74, 170.0], [71, 180.0], [75, 208.0], [77, 235.0], [72, 215.0], [74, 244.0], [72, 220.0], [73, 185.0], [78, 230.0], [77, 190.0], [73, 200.0], [73, 180.0], [73, 190.0], [73, 196.0], [73, 180.0], [76, 230.0], [75, 224.0], [70, 160.0], [73, 178.0], [72, 205.0], [73, 185.0], [75, 210.0], [74, 180.0], [73, 190.0], [73, 200.0], [76, 257.0], [73, 190.0], [75, 220.0], [70, 165.0], [77, 205.0], [72, 200.0], [77, 208.0], [74, 185.0], [75, 215.0], [75, 170.0], [75, 235.0], [75, 210.0], [72, 170.0], [74, 180.0], [71, 170.0], [76, 190.0], [71, 150.0], [75, 230.0], [76, 203.0], [83, 260.0], [75, 246.0], [74, 186.0], [76, 210.0], [72, 198.0], [72, 210.0], [75, 215.0], [75, 180.0], [72, 200.0], [77, 245.0], [73, 200.0], [72, 192.0], [70, 192.0], [74, 200.0], [72, 192.0], [74, 205.0], [72, 190.0], [71, 186.0], [70, 170.0], [71, 197.0], [76, 219.0], [74, 200.0], [76, 220.0], [74, 207.0], [74, 225.0], [74, 207.0], [75, 212.0], [75, 225.0], [71, 170.0], [71, 190.0], [74, 210.0], [77, 230.0], [71, 210.0], [74, 200.0], [75, 238.0], [77, 234.0], [76, 222.0], [74, 200.0], [76, 190.0], [72, 170.0], [71, 220.0], [72, 223.0], [75, 210.0], [73, 215.0], [68, 196.0], [72, 175.0], [69, 175.0], [73, 189.0], [73, 205.0], [75, 210.0], [70, 180.0], [70, 180.0], [74, 197.0], [75, 220.0], [74, 228.0], [74, 190.0], [73, 204.0], [74, 165.0], [75, 216.0], [77, 220.0], [73, 208.0], [74, 210.0], [76, 215.0], [74, 195.0], [75, 200.0], [73, 215.0], [76, 229.0], [78, 240.0], [75, 207.0], [73, 205.0], [77, 208.0], [74, 185.0], [72, 190.0], [74, 170.0], [72, 208.0], [71, 225.0], [73, 190.0], [75, 225.0], [73, 185.0], [67, 180.0], [67, 165.0], [76, 240.0], [74, 220.0], [73, 212.0], [70, 163.0], [75, 215.0], [70, 175.0], [72, 205.0], [77, 210.0], [79, 205.0], [78, 208.0], [74, 215.0], [75, 180.0], [75, 200.0], [78, 230.0], [76, 211.0], [75, 230.0], [69, 190.0], [75, 220.0], [72, 180.0], [75, 205.0], [73, 190.0], [74, 180.0], [75, 205.0], [75, 190.0], [73, 195.0]]\n",
      "(1034, 2)\n"
     ]
    }
   ],
   "source": [
    "\n",
    "#Concatenate lists into a 2d list from full baseball\n",
    "baseball = [list(a) for a in zip(height_in, weight_lb)]\n",
    "print(baseball)\n",
    "\n",
    "# Create a 2D numpy array from baseball: np_baseball\n",
    "np_baseball = np.array(baseball)\n",
    "\n",
    "\n",
    "# Print out the shape of np_baseball\n",
    "print(np_baseball.shape)"
   ]
  },
  {
   "cell_type": "code",
   "execution_count": 56,
   "metadata": {},
   "outputs": [
    {
     "name": "stdout",
     "output_type": "stream",
     "text": [
      "[ 74. 210.]\n",
      "76.0\n"
     ]
    }
   ],
   "source": [
    "# Print out the 50th row of np_baseball\n",
    "print(np_baseball[49])\n",
    "\n",
    "# Select the entire second column of np_baseball: np_weight_lb\n",
    "np_weight_lb = np_baseball[:,1]\n",
    "\n",
    "# Print out height of 124th player\n",
    "print(np_baseball[123,0])"
   ]
  },
  {
   "cell_type": "code",
   "execution_count": 57,
   "metadata": {},
   "outputs": [
    {
     "name": "stdout",
     "output_type": "stream",
     "text": [
      "[[ 1.8796  81.64656]\n",
      " [ 1.8796  97.52228]\n",
      " [ 1.8288  95.25432]\n",
      " ...\n",
      " [ 1.905   92.98636]\n",
      " [ 1.905   86.18248]\n",
      " [ 1.8542  88.45044]]\n"
     ]
    }
   ],
   "source": [
    "# Create numpy array: conversion to convert to metric units\n",
    "\n",
    "conversion = np.array([0.0254,0.453592])\n",
    "\n",
    "\n",
    "# Print out product of np_baseball and conversion\n",
    "print(np_baseball * conversion)"
   ]
  },
  {
   "cell_type": "code",
   "execution_count": 58,
   "metadata": {},
   "outputs": [
    {
     "name": "stdout",
     "output_type": "stream",
     "text": [
      "73.6972920696325\n",
      "74.0\n"
     ]
    }
   ],
   "source": [
    "print(np.mean(np_height_in))\n",
    "\n",
    "# Print out the median of np_height_in\n",
    "print(np.median(np_height_in))"
   ]
  },
  {
   "cell_type": "code",
   "execution_count": 59,
   "metadata": {},
   "outputs": [
    {
     "name": "stdout",
     "output_type": "stream",
     "text": [
      "Average: 73.6972920696325\n",
      "Median: 74.0\n",
      "Standard Deviation: 2.304703041620148\n",
      "Correlation: [[ 1. nan]\n",
      " [nan nan]]\n"
     ]
    }
   ],
   "source": [
    "# Print mean height (first column)\n",
    "avg = np.mean(np_baseball[:,0])\n",
    "print(\"Average: \" + str(avg))\n",
    "\n",
    "# Print median height. Replace 'None'\n",
    "med = np.median(np_baseball[:,0])\n",
    "print(\"Median: \" + str(med))\n",
    "\n",
    "# Print out the standard deviation on height. Replace 'None'\n",
    "stddev = np.std(np_baseball[:,0])\n",
    "print(\"Standard Deviation: \" + str(stddev))\n",
    "\n",
    "# Print out correlation between first and second column. Replace 'None'\n",
    "corr = np.corrcoef(np_baseball[:,0], np_baseball[:,1])\n",
    "print(\"Correlation: \" + str(corr))"
   ]
  },
  {
   "cell_type": "code",
   "execution_count": 63,
   "metadata": {},
   "outputs": [],
   "source": [
    "#Import FIFA 2020 dataset for players and their attributes\n",
    "df_fifa = pd.read_csv('players_20.csv')\n",
    "df_fifa.head()\n",
    "#Create positions lists and heights lists\n",
    "positions = df_fifa['team_position'].tolist()\n",
    "heights = df_fifa['height_cm'].tolist()"
   ]
  },
  {
   "cell_type": "code",
   "execution_count": 64,
   "metadata": {},
   "outputs": [
    {
     "name": "stdout",
     "output_type": "stream",
     "text": [
      "Median height of goalkeepers: 188.0\n",
      "Median height of other players: 181.0\n"
     ]
    }
   ],
   "source": [
    "# Convert positions and heights to numpy arrays: np_positions, np_heights\n",
    "np_positions = np.array(positions)\n",
    "np_heights = np.array(heights)\n",
    "\n",
    "\n",
    "# Heights of the goalkeepers: gk_heights\n",
    "gk_heights =np_heights[np_positions == 'GK']\n",
    "\n",
    "# Heights of the other players: other_heights\n",
    "\n",
    "other_heights =np_heights[np_positions != 'GK']\n",
    "# Print out the median height of goalkeepers. Replace 'None'\n",
    "print(\"Median height of goalkeepers: \" + str(np.median(gk_heights)))\n",
    "\n",
    "# Print out the median height of other players. Replace 'None'\n",
    "print(\"Median height of other players: \" + str(np.median(other_heights)))"
   ]
  },
  {
   "cell_type": "code",
   "execution_count": null,
   "metadata": {},
   "outputs": [],
   "source": []
  }
 ],
 "metadata": {
  "kernelspec": {
   "display_name": "Python 3",
   "language": "python",
   "name": "python3"
  },
  "language_info": {
   "codemirror_mode": {
    "name": "ipython",
    "version": 3
   },
   "file_extension": ".py",
   "mimetype": "text/x-python",
   "name": "python",
   "nbconvert_exporter": "python",
   "pygments_lexer": "ipython3",
   "version": "3.7.3"
  }
 },
 "nbformat": 4,
 "nbformat_minor": 2
}
